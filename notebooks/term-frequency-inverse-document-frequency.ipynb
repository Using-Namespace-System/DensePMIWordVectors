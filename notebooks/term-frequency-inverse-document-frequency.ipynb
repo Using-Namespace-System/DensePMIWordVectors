{
    "cells": [
     {
      "cell_type": "code",
      "execution_count": null,
      "metadata": {},
      "outputs": [],
      "source": [
       "from collections import Counter\n",
       "import itertools\n",
       "from itertools import zip_longest\n",
       "import matplotlib.pyplot as plt\n",
       "from matplotlib.pyplot import figure, show\n",
       "import nltk\n",
       "from nltk.corpus import stopwords\n",
       "import numpy as np\n",
       "from numpy.linalg import norm\n",
       "import pandas as pd\n",
       "import seaborn as sns\n",
       "from scipy import sparse\n",
       "from scipy.sparse import linalg \n",
       "from scipy.sparse import dok_matrix\n",
       "from scipy.sparse import csr_array\n",
       "from scipy.sparse import find\n",
       "from scipy.sparse.linalg import svds\n",
       "from scipy.spatial.distance import pdist, squareform\n",
       "from sklearn.preprocessing import normalize\n",
       "from sklearn.preprocessing import MinMaxScaler\n",
       "from sklearn.metrics.pairwise import cosine_similarity\n",
       "\n",
       "from pickleshare import *\n",
       "\n",
       "db = PickleShareDB('~/.ipython/profile_default/db/autorestore')\n",
       "\n",
       "dictionary = db['dictionary']\n",
       "\n",
       "dictionary_lookup = db['dictionary_lookup']\n",
       "\n",
       "sparse_word_doc_matrix = db['sparse_word_doc_matrix']"
      ]
     },
     {
      "cell_type": "code",
      "execution_count": null,
      "metadata": {},
      "outputs": [],
      "source": []
     }
    ],
    "metadata": {
     "kernelspec": {
      "display_name": "Python 3",
      "language": "python",
      "name": "python3"
     },
     "language_info": {
      "codemirror_mode": {
       "name": "ipython",
       "version": 3
      },
      "file_extension": ".py",
      "mimetype": "text/x-python",
      "name": "python",
      "nbconvert_exporter": "python",
      "pygments_lexer": "ipython3",
      "version": "3.10.8"
     }
    },
    "nbformat": 4,
    "nbformat_minor": 2
   }
   