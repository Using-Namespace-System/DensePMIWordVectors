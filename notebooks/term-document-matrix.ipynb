{
 "cells": [
  {
   "cell_type": "code",
   "execution_count": 1,
   "metadata": {},
   "outputs": [
    {
     "name": "stderr",
     "output_type": "stream",
     "text": [
      "[nltk_data] Downloading package stopwords to\n",
      "[nltk_data]     /home/codespace/nltk_data...\n",
      "[nltk_data]   Package stopwords is already up-to-date!\n"
     ]
    }
   ],
   "source": [
    "from itertools import zip_longest\n",
    "from matplotlib.pyplot import figure\n",
    "import nltk\n",
    "from nltk.corpus import stopwords\n",
    "import numpy as np\n",
    "import pandas as pd\n",
    "from scipy.sparse import csr_array\n",
    "from scipy.sparse import find\n",
    "from pickleshare import *\n",
    "\n",
    "df = pd.read_csv('../input/abcnews-date-text.csv')\n",
    "nltk.download('stopwords')\n",
    "stopwords_set = set(stopwords.words('english'))\n",
    "\n"
   ]
  },
  {
   "cell_type": "code",
   "execution_count": 2,
   "metadata": {},
   "outputs": [],
   "source": [
    "#tokenize and sanitize\n",
    "\n",
    "#tokenize documents into individual words\n",
    "df['tokenized'] = df.headline_text.str.split(' ')\n",
    "\n",
    "#remove short documents from corpus\n",
    "df['length'] = df.tokenized.map(len)\n",
    "df = df.loc[df.length > 1]\n",
    "\n",
    "#use random subset of corpus\n",
    "df=df.sample(frac=0.0001)\n",
    "\n",
    "#flatten all words into single series\n",
    "ex = df.explode('tokenized')\n",
    "\n",
    "#remove shorter words\n",
    "ex = ex.loc[ex.tokenized.str.len() > 2]\n",
    "\n",
    "#remove stopwords\n",
    "ex = ex.loc[~ex.tokenized.isin(stopwords_set)]"
   ]
  },
  {
   "cell_type": "code",
   "execution_count": 3,
   "metadata": {},
   "outputs": [],
   "source": [
    "#ceate dictionary of words\n",
    "\n",
    "#shuffle for sparse matrix visual\n",
    "dictionary = ex.tokenized.drop_duplicates().sample(frac=1)\n",
    "\n",
    "#dataframe with (index/code):word\n",
    "dictionary = pd.Series(dictionary.tolist(), name='words').to_frame()\n",
    "\n",
    "#store code:word dictionary for reverse encoding\n",
    "dictionary_lookup = dictionary.to_dict()['words']\n",
    "\n",
    "#offset index to prevent clash with zero fill\n",
    "dictionary['encode'] = dictionary.index + 1\n",
    "\n",
    "#store word:code dictionary for encoding\n",
    "dictionary = dictionary.set_index('words').to_dict()['encode']\n"
   ]
  },
  {
   "cell_type": "code",
   "execution_count": 4,
   "metadata": {},
   "outputs": [],
   "source": [
    "#reduced grouping from group by dataframeto to group by series and aggregated to tuple\n",
    "#improved from 30s to 20s with whole dataset\n",
    "\n",
    "#use dictionary to encode each word to integer representation\n",
    "encode = ex.tokenized.map(dictionary.get).to_frame()\n",
    "encode.index.astype('int')\n",
    "encode.tokenized.astype('int')\n",
    "#un-flatten encoded words back into original documents\n",
    "docs = encode.tokenized.groupby(level=0).agg(tuple)\n"
   ]
  },
  {
   "cell_type": "code",
   "execution_count": 5,
   "metadata": {},
   "outputs": [
    {
     "name": "stderr",
     "output_type": "stream",
     "text": [
      "/home/codespace/.local/lib/python3.10/site-packages/IPython/extensions/storemagic.py:229: UserWarning: using autorestore/sparse_word_doc_matrix requires you to install the `pickleshare` library.\n",
      "  db[ 'autorestore/' + arg ] = obj\n"
     ]
    },
    {
     "name": "stdout",
     "output_type": "stream",
     "text": [
      "Stored 'sparse_word_doc_matrix' (csc_array)\n"
     ]
    },
    {
     "data": {
      "image/png": "[encoded data removed]",
      "text/plain": [
       "<Figure size 640x480 with 1 Axes>"
      ]
     },
     "metadata": {},
     "output_type": "display_data"
    }
   ],
   "source": [
    "\n",
    "#zero pad x dimention by longest sentence\n",
    "encoded_docs = list(zip(*zip_longest(*docs.to_list(), fillvalue=0)))\n",
    "\n",
    "#convert to sparse matrix\n",
    "encoded_docs = csr_array(encoded_docs, dtype=int)\n",
    "\n",
    "#convert to index for each word\n",
    "row_column_code = find(encoded_docs)\n",
    "\n",
    "#presort by words\n",
    "word_sorted_index = row_column_code[2].argsort()\n",
    "doc_word = np.array([row_column_code[0][word_sorted_index], row_column_code[2][word_sorted_index]])\n",
    "\n",
    "#presort by docs and words\n",
    "doc_word_sorted_index = doc_word[0].argsort()\n",
    "doc_word = pd.DataFrame(np.array([doc_word[0][doc_word_sorted_index], doc_word[1][doc_word_sorted_index]]).T, columns=['doc','word'])\n",
    "\n",
    "#offset code no longer needed after zerofill\n",
    "doc_word.word = doc_word.word - 1\n",
    "\n",
    "#convert to index of word counts per document\n",
    "doc_word_count  = doc_word.groupby(['doc','word']).size().to_frame('count').reset_index().to_numpy().T\n",
    "\n",
    "#convert to sparse matrix\n",
    "sparse_word_doc_matrix = csr_array((doc_word_count[2],(doc_word_count[0],doc_word_count[1])), shape=(np.size(encoded_docs, 0),len(dictionary)), dtype=float).T\n",
    "\n",
    "#visualize sparse matrix\n",
    "fig = figure()\n",
    "sparse_word_doc_matrix_visualization = fig.add_subplot(1,1,1)\n",
    "sparse_word_doc_matrix_visualization.spy(sparse_word_doc_matrix, markersize=1, aspect = 'auto')\n",
    "\n",
    "%store sparse_doc_word_matrix\n",
    "%store dictionary\n",
    "%store dictionary_lookup\n"
   ]
  }
 ],
 "metadata": {
  "kernelspec": {
   "display_name": "Python 3",
   "language": "python",
   "name": "python3"
  },
  "language_info": {
   "codemirror_mode": {
    "name": "ipython",
    "version": 3
   },
   "file_extension": ".py",
   "mimetype": "text/x-python",
   "name": "python",
   "nbconvert_exporter": "python",
   "pygments_lexer": "ipython3",
   "version": "3.10.8"
  }
 },
 "nbformat": 4,
 "nbformat_minor": 2
}
